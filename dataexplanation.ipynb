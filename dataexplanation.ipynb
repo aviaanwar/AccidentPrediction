{
 "cells": [
  {
   "cell_type": "code",
   "execution_count": 1,
   "metadata": {},
   "outputs": [],
   "source": [
    "import pandas as pd\n",
    "import numpy as np"
   ]
  },
  {
   "cell_type": "code",
   "execution_count": 2,
   "metadata": {},
   "outputs": [],
   "source": [
    "df = pd.read_csv('Dataset\\\\processed_data.csv', index_col=False)"
   ]
  },
  {
   "cell_type": "code",
   "execution_count": 3,
   "metadata": {},
   "outputs": [
    {
     "data": {
      "text/plain": [
       "42    8050\n",
       "64    1424\n",
       "54    1336\n",
       "63    1287\n",
       "44    1250\n",
       "      ... \n",
       "68     144\n",
       "19      99\n",
       "70      94\n",
       "23      65\n",
       "69      39\n",
       "Name: District, Length: 70, dtype: int64"
      ]
     },
     "execution_count": 3,
     "metadata": {},
     "output_type": "execute_result"
    }
   ],
   "source": [
    "district_by_accident = df.District.value_counts()\n",
    "district_by_accident"
   ]
  },
  {
   "cell_type": "code",
   "execution_count": 4,
   "metadata": {},
   "outputs": [
    {
     "data": {
      "text/html": [
       "<div>\n",
       "<style scoped>\n",
       "    .dataframe tbody tr th:only-of-type {\n",
       "        vertical-align: middle;\n",
       "    }\n",
       "\n",
       "    .dataframe tbody tr th {\n",
       "        vertical-align: top;\n",
       "    }\n",
       "\n",
       "    .dataframe thead th {\n",
       "        text-align: right;\n",
       "    }\n",
       "</style>\n",
       "<table border=\"1\" class=\"dataframe\">\n",
       "  <thead>\n",
       "    <tr style=\"text-align: right;\">\n",
       "      <th></th>\n",
       "      <th>Thana</th>\n",
       "      <th>District</th>\n",
       "      <th>Month</th>\n",
       "      <th>Year</th>\n",
       "      <th>Time</th>\n",
       "      <th>Junction_Type</th>\n",
       "      <th>Traffic_Control</th>\n",
       "      <th>Movement</th>\n",
       "      <th>Divider</th>\n",
       "      <th>Weather</th>\n",
       "      <th>...</th>\n",
       "      <th>Road_Feature</th>\n",
       "      <th>Location_Type</th>\n",
       "      <th>Vehicle_Type</th>\n",
       "      <th>Vehicle_Movement</th>\n",
       "      <th>Vehicle_Loading</th>\n",
       "      <th>Vehicle_Defect</th>\n",
       "      <th>Vehicle_Driver_Age</th>\n",
       "      <th>Vehicle_Alcohol</th>\n",
       "      <th>Vehicle_Seat_Belt</th>\n",
       "      <th>Accident_Severity</th>\n",
       "    </tr>\n",
       "  </thead>\n",
       "  <tbody>\n",
       "    <tr>\n",
       "      <th>count</th>\n",
       "      <td>43087.000000</td>\n",
       "      <td>43087.000000</td>\n",
       "      <td>43087.000000</td>\n",
       "      <td>43087.000000</td>\n",
       "      <td>43087.000000</td>\n",
       "      <td>43087.000000</td>\n",
       "      <td>43087.000000</td>\n",
       "      <td>43087.000000</td>\n",
       "      <td>43087.000000</td>\n",
       "      <td>43087.000000</td>\n",
       "      <td>...</td>\n",
       "      <td>43087.000000</td>\n",
       "      <td>43087.000000</td>\n",
       "      <td>43087.000000</td>\n",
       "      <td>43087.000000</td>\n",
       "      <td>43087.000000</td>\n",
       "      <td>43087.000000</td>\n",
       "      <td>43087.000000</td>\n",
       "      <td>43087.000000</td>\n",
       "      <td>43087.000000</td>\n",
       "      <td>43087.000000</td>\n",
       "    </tr>\n",
       "    <tr>\n",
       "      <th>mean</th>\n",
       "      <td>6.617472</td>\n",
       "      <td>38.864321</td>\n",
       "      <td>6.213405</td>\n",
       "      <td>2006.885720</td>\n",
       "      <td>5.004224</td>\n",
       "      <td>2.170608</td>\n",
       "      <td>2.009701</td>\n",
       "      <td>1.847657</td>\n",
       "      <td>1.778796</td>\n",
       "      <td>1.100193</td>\n",
       "      <td>...</td>\n",
       "      <td>1.077378</td>\n",
       "      <td>1.625850</td>\n",
       "      <td>10.704458</td>\n",
       "      <td>6.062501</td>\n",
       "      <td>1.057187</td>\n",
       "      <td>2.119549</td>\n",
       "      <td>33.291387</td>\n",
       "      <td>1.769931</td>\n",
       "      <td>1.844060</td>\n",
       "      <td>0.390675</td>\n",
       "    </tr>\n",
       "    <tr>\n",
       "      <th>std</th>\n",
       "      <td>6.913342</td>\n",
       "      <td>17.528867</td>\n",
       "      <td>3.429520</td>\n",
       "      <td>3.975944</td>\n",
       "      <td>61.441647</td>\n",
       "      <td>2.113812</td>\n",
       "      <td>2.102798</td>\n",
       "      <td>0.359357</td>\n",
       "      <td>0.415062</td>\n",
       "      <td>0.462402</td>\n",
       "      <td>...</td>\n",
       "      <td>0.430632</td>\n",
       "      <td>0.483908</td>\n",
       "      <td>3.796507</td>\n",
       "      <td>1.809081</td>\n",
       "      <td>0.232301</td>\n",
       "      <td>2.125606</td>\n",
       "      <td>5.062100</td>\n",
       "      <td>0.420882</td>\n",
       "      <td>0.521533</td>\n",
       "      <td>0.758996</td>\n",
       "    </tr>\n",
       "    <tr>\n",
       "      <th>min</th>\n",
       "      <td>1.000000</td>\n",
       "      <td>1.000000</td>\n",
       "      <td>1.000000</td>\n",
       "      <td>2001.000000</td>\n",
       "      <td>1.000000</td>\n",
       "      <td>1.000000</td>\n",
       "      <td>1.000000</td>\n",
       "      <td>1.000000</td>\n",
       "      <td>1.000000</td>\n",
       "      <td>1.000000</td>\n",
       "      <td>...</td>\n",
       "      <td>1.000000</td>\n",
       "      <td>1.000000</td>\n",
       "      <td>1.000000</td>\n",
       "      <td>1.000000</td>\n",
       "      <td>0.000000</td>\n",
       "      <td>1.000000</td>\n",
       "      <td>0.000000</td>\n",
       "      <td>1.000000</td>\n",
       "      <td>0.000000</td>\n",
       "      <td>0.000000</td>\n",
       "    </tr>\n",
       "    <tr>\n",
       "      <th>25%</th>\n",
       "      <td>2.000000</td>\n",
       "      <td>26.000000</td>\n",
       "      <td>3.000000</td>\n",
       "      <td>2003.000000</td>\n",
       "      <td>2.000000</td>\n",
       "      <td>1.000000</td>\n",
       "      <td>1.000000</td>\n",
       "      <td>2.000000</td>\n",
       "      <td>2.000000</td>\n",
       "      <td>1.000000</td>\n",
       "      <td>...</td>\n",
       "      <td>1.000000</td>\n",
       "      <td>1.000000</td>\n",
       "      <td>9.000000</td>\n",
       "      <td>6.000000</td>\n",
       "      <td>1.000000</td>\n",
       "      <td>1.000000</td>\n",
       "      <td>33.000000</td>\n",
       "      <td>2.000000</td>\n",
       "      <td>2.000000</td>\n",
       "      <td>0.000000</td>\n",
       "    </tr>\n",
       "    <tr>\n",
       "      <th>50%</th>\n",
       "      <td>5.000000</td>\n",
       "      <td>42.000000</td>\n",
       "      <td>6.000000</td>\n",
       "      <td>2007.000000</td>\n",
       "      <td>3.000000</td>\n",
       "      <td>1.000000</td>\n",
       "      <td>1.000000</td>\n",
       "      <td>2.000000</td>\n",
       "      <td>2.000000</td>\n",
       "      <td>1.000000</td>\n",
       "      <td>...</td>\n",
       "      <td>1.000000</td>\n",
       "      <td>2.000000</td>\n",
       "      <td>9.000000</td>\n",
       "      <td>6.000000</td>\n",
       "      <td>1.000000</td>\n",
       "      <td>1.000000</td>\n",
       "      <td>33.000000</td>\n",
       "      <td>2.000000</td>\n",
       "      <td>2.000000</td>\n",
       "      <td>0.000000</td>\n",
       "    </tr>\n",
       "    <tr>\n",
       "      <th>75%</th>\n",
       "      <td>9.000000</td>\n",
       "      <td>52.000000</td>\n",
       "      <td>9.000000</td>\n",
       "      <td>2010.000000</td>\n",
       "      <td>3.000000</td>\n",
       "      <td>2.000000</td>\n",
       "      <td>1.000000</td>\n",
       "      <td>2.000000</td>\n",
       "      <td>2.000000</td>\n",
       "      <td>1.000000</td>\n",
       "      <td>...</td>\n",
       "      <td>1.000000</td>\n",
       "      <td>2.000000</td>\n",
       "      <td>14.000000</td>\n",
       "      <td>6.000000</td>\n",
       "      <td>1.000000</td>\n",
       "      <td>2.000000</td>\n",
       "      <td>33.000000</td>\n",
       "      <td>2.000000</td>\n",
       "      <td>2.000000</td>\n",
       "      <td>1.000000</td>\n",
       "    </tr>\n",
       "    <tr>\n",
       "      <th>max</th>\n",
       "      <td>49.000000</td>\n",
       "      <td>70.000000</td>\n",
       "      <td>12.000000</td>\n",
       "      <td>2016.000000</td>\n",
       "      <td>2330.000000</td>\n",
       "      <td>7.000000</td>\n",
       "      <td>8.000000</td>\n",
       "      <td>2.000000</td>\n",
       "      <td>2.000000</td>\n",
       "      <td>4.000000</td>\n",
       "      <td>...</td>\n",
       "      <td>5.000000</td>\n",
       "      <td>2.000000</td>\n",
       "      <td>19.000000</td>\n",
       "      <td>14.000000</td>\n",
       "      <td>2.000000</td>\n",
       "      <td>7.000000</td>\n",
       "      <td>85.000000</td>\n",
       "      <td>2.000000</td>\n",
       "      <td>2.000000</td>\n",
       "      <td>3.000000</td>\n",
       "    </tr>\n",
       "  </tbody>\n",
       "</table>\n",
       "<p>8 rows × 26 columns</p>\n",
       "</div>"
      ],
      "text/plain": [
       "              Thana      District         Month          Year          Time  \\\n",
       "count  43087.000000  43087.000000  43087.000000  43087.000000  43087.000000   \n",
       "mean       6.617472     38.864321      6.213405   2006.885720      5.004224   \n",
       "std        6.913342     17.528867      3.429520      3.975944     61.441647   \n",
       "min        1.000000      1.000000      1.000000   2001.000000      1.000000   \n",
       "25%        2.000000     26.000000      3.000000   2003.000000      2.000000   \n",
       "50%        5.000000     42.000000      6.000000   2007.000000      3.000000   \n",
       "75%        9.000000     52.000000      9.000000   2010.000000      3.000000   \n",
       "max       49.000000     70.000000     12.000000   2016.000000   2330.000000   \n",
       "\n",
       "       Junction_Type  Traffic_Control      Movement       Divider  \\\n",
       "count   43087.000000     43087.000000  43087.000000  43087.000000   \n",
       "mean        2.170608         2.009701      1.847657      1.778796   \n",
       "std         2.113812         2.102798      0.359357      0.415062   \n",
       "min         1.000000         1.000000      1.000000      1.000000   \n",
       "25%         1.000000         1.000000      2.000000      2.000000   \n",
       "50%         1.000000         1.000000      2.000000      2.000000   \n",
       "75%         2.000000         1.000000      2.000000      2.000000   \n",
       "max         7.000000         8.000000      2.000000      2.000000   \n",
       "\n",
       "            Weather  ...  Road_Feature  Location_Type  Vehicle_Type  \\\n",
       "count  43087.000000  ...  43087.000000   43087.000000  43087.000000   \n",
       "mean       1.100193  ...      1.077378       1.625850     10.704458   \n",
       "std        0.462402  ...      0.430632       0.483908      3.796507   \n",
       "min        1.000000  ...      1.000000       1.000000      1.000000   \n",
       "25%        1.000000  ...      1.000000       1.000000      9.000000   \n",
       "50%        1.000000  ...      1.000000       2.000000      9.000000   \n",
       "75%        1.000000  ...      1.000000       2.000000     14.000000   \n",
       "max        4.000000  ...      5.000000       2.000000     19.000000   \n",
       "\n",
       "       Vehicle_Movement  Vehicle_Loading  Vehicle_Defect  Vehicle_Driver_Age  \\\n",
       "count      43087.000000     43087.000000    43087.000000        43087.000000   \n",
       "mean           6.062501         1.057187        2.119549           33.291387   \n",
       "std            1.809081         0.232301        2.125606            5.062100   \n",
       "min            1.000000         0.000000        1.000000            0.000000   \n",
       "25%            6.000000         1.000000        1.000000           33.000000   \n",
       "50%            6.000000         1.000000        1.000000           33.000000   \n",
       "75%            6.000000         1.000000        2.000000           33.000000   \n",
       "max           14.000000         2.000000        7.000000           85.000000   \n",
       "\n",
       "       Vehicle_Alcohol  Vehicle_Seat_Belt  Accident_Severity  \n",
       "count     43087.000000       43087.000000       43087.000000  \n",
       "mean          1.769931           1.844060           0.390675  \n",
       "std           0.420882           0.521533           0.758996  \n",
       "min           1.000000           0.000000           0.000000  \n",
       "25%           2.000000           2.000000           0.000000  \n",
       "50%           2.000000           2.000000           0.000000  \n",
       "75%           2.000000           2.000000           1.000000  \n",
       "max           2.000000           2.000000           3.000000  \n",
       "\n",
       "[8 rows x 26 columns]"
      ]
     },
     "execution_count": 4,
     "metadata": {},
     "output_type": "execute_result"
    }
   ],
   "source": [
    "df.describe()\n"
   ]
  },
  {
   "cell_type": "code",
   "execution_count": 20,
   "metadata": {},
   "outputs": [
    {
     "data": {
      "text/plain": [
       "49"
      ]
     },
     "execution_count": 20,
     "metadata": {},
     "output_type": "execute_result"
    }
   ],
   "source": [
    "len(np.unique(df[\"Thana\"]))"
   ]
  },
  {
   "cell_type": "code",
   "execution_count": 21,
   "metadata": {},
   "outputs": [
    {
     "data": {
      "text/plain": [
       "70"
      ]
     },
     "execution_count": 21,
     "metadata": {},
     "output_type": "execute_result"
    }
   ],
   "source": [
    "len(np.unique(df[\"District\"]))"
   ]
  },
  {
   "cell_type": "code",
   "execution_count": 22,
   "metadata": {},
   "outputs": [
    {
     "data": {
      "text/plain": [
       "4"
      ]
     },
     "execution_count": 22,
     "metadata": {},
     "output_type": "execute_result"
    }
   ],
   "source": [
    "len(np.unique(df[\"Weather\"]))"
   ]
  },
  {
   "cell_type": "code",
   "execution_count": 24,
   "metadata": {},
   "outputs": [
    {
     "data": {
      "text/plain": [
       "array([ 0,  1,  2,  3,  4,  6,  7, 11, 12, 13, 14, 15, 16, 17, 18, 19, 20,\n",
       "       21, 22, 23, 24, 25, 26, 27, 28, 29, 30, 31, 32, 33, 34, 35, 36, 37,\n",
       "       38, 39, 40, 41, 42, 43, 44, 45, 46, 47, 48, 49, 50, 51, 52, 53, 54,\n",
       "       55, 56, 57, 58, 59, 60, 61, 62, 65, 66, 73, 75, 80, 82, 85],\n",
       "      dtype=int64)"
      ]
     },
     "execution_count": 24,
     "metadata": {},
     "output_type": "execute_result"
    }
   ],
   "source": [
    "np.unique(df['Vehicle_Driver_Age'])"
   ]
  },
  {
   "cell_type": "code",
   "execution_count": 8,
   "metadata": {},
   "outputs": [
    {
     "data": {
      "text/plain": [
       "F    31661\n",
       "G     7894\n",
       "S     1875\n",
       "M     1657\n",
       "7        1\n",
       "2        1\n",
       "Name: Accident_Severity, dtype: int64"
      ]
     },
     "execution_count": 8,
     "metadata": {},
     "output_type": "execute_result"
    }
   ],
   "source": [
    "df.Accident_Severity.value_counts()\n"
   ]
  },
  {
   "cell_type": "code",
   "execution_count": 11,
   "metadata": {},
   "outputs": [
    {
     "data": {
      "text/plain": [
       "1    19123\n",
       "5     8967\n",
       "2     6014\n",
       "3     5566\n",
       "4     3417\n",
       "Name: Road_Class, dtype: int64"
      ]
     },
     "execution_count": 11,
     "metadata": {},
     "output_type": "execute_result"
    }
   ],
   "source": [
    "df.Road_Class.value_counts()"
   ]
  },
  {
   "cell_type": "code",
   "execution_count": 29,
   "metadata": {},
   "outputs": [
    {
     "name": "stdout",
     "output_type": "stream",
     "text": [
      "0        4\n",
      "1        2\n",
      "2        3\n",
      "3        3\n",
      "4        2\n",
      "        ..\n",
      "43084    2\n",
      "43085    3\n",
      "43086    1\n",
      "43087    2\n",
      "43088    3\n",
      "Name: Time, Length: 43089, dtype: object\n"
     ]
    }
   ],
   "source": [
    "\n",
    "print()"
   ]
  },
  {
   "cell_type": "code",
   "execution_count": 32,
   "metadata": {},
   "outputs": [
    {
     "data": {
      "text/plain": [
       "1    40832\n",
       "2     1710\n",
       "5      313\n",
       "?      124\n",
       "3       90\n",
       "4       18\n",
       "0        1\n",
       "         1\n",
       "Name: Surface_Condition, dtype: int64"
      ]
     },
     "execution_count": 32,
     "metadata": {},
     "output_type": "execute_result"
    }
   ],
   "source": [
    "# import matplotlib.pyplot as plt\n",
    "# n=df.Lo.value_counts()\n",
    "# mylabels = [\"Rural Area\", \"Urban Area\"]\n",
    "\n",
    "\n",
    "# plt.pie(n,labels = mylabels)\n",
    "# plt.show() \n",
    "df.Surface_Condition.value_counts()\n"
   ]
  },
  {
   "cell_type": "code",
   "execution_count": 33,
   "metadata": {},
   "outputs": [
    {
     "data": {
      "text/plain": [
       "1    40903\n",
       "2     1481\n",
       "3      558\n",
       "?      147\n",
       "Name: Surface_Quality, dtype: int64"
      ]
     },
     "execution_count": 33,
     "metadata": {},
     "output_type": "execute_result"
    }
   ],
   "source": [
    "df.Surface_Quality.value_counts()"
   ]
  },
  {
   "cell_type": "code",
   "execution_count": 34,
   "metadata": {},
   "outputs": [
    {
     "data": {
      "text/plain": [
       "1    42100\n",
       "2      459\n",
       "3      428\n",
       "?      102\n",
       "Name: Surface_Type, dtype: int64"
      ]
     },
     "execution_count": 34,
     "metadata": {},
     "output_type": "execute_result"
    }
   ],
   "source": [
    "df.Surface_Type.value_counts()"
   ]
  },
  {
   "cell_type": "code",
   "execution_count": 35,
   "metadata": {},
   "outputs": [
    {
     "data": {
      "text/plain": [
       "1    32690\n",
       "8     3535\n",
       "4     3252\n",
       "3     1224\n",
       "2      875\n",
       "6      717\n",
       "?      424\n",
       "5      274\n",
       "7       96\n",
       "         2\n",
       "Name: Traffic_Control, dtype: int64"
      ]
     },
     "execution_count": 35,
     "metadata": {},
     "output_type": "execute_result"
    }
   ],
   "source": [
    "df.Traffic_Control.value_counts()"
   ]
  },
  {
   "cell_type": "code",
   "execution_count": 38,
   "metadata": {},
   "outputs": [
    {
     "data": {
      "text/plain": [
       "2    36523\n",
       "1     6564\n",
       "Name: Movement, dtype: int64"
      ]
     },
     "execution_count": 38,
     "metadata": {},
     "output_type": "execute_result"
    }
   ],
   "source": [
    "df.Movement.value_counts()"
   ]
  },
  {
   "cell_type": "code",
   "execution_count": 4,
   "metadata": {},
   "outputs": [
    {
     "data": {
      "text/plain": [
       "1    29593\n",
       "7     6116\n",
       "2     5475\n",
       "3     1046\n",
       "6      650\n",
       "5      104\n",
       "4      103\n",
       "Name: Vehicle_Defect, dtype: int64"
      ]
     },
     "execution_count": 4,
     "metadata": {},
     "output_type": "execute_result"
    }
   ],
   "source": [
    "df.Vehicle_Defect.value_counts()"
   ]
  },
  {
   "cell_type": "code",
   "execution_count": 5,
   "metadata": {},
   "outputs": [
    {
     "data": {
      "text/plain": [
       "1    29543\n",
       "2     5647\n",
       "3     3950\n",
       "4     3947\n",
       "Name: Light, dtype: int64"
      ]
     },
     "execution_count": 5,
     "metadata": {},
     "output_type": "execute_result"
    }
   ],
   "source": [
    "df.Light.value_counts()"
   ]
  },
  {
   "cell_type": "code",
   "execution_count": null,
   "metadata": {},
   "outputs": [],
   "source": []
  }
 ],
 "metadata": {
  "interpreter": {
   "hash": "9e1211dc2136e05d8cf26e9533e2be3be2d1fa53db8fd02dbaa054819cf34999"
  },
  "kernelspec": {
   "display_name": "Python 3.10.1 64-bit",
   "language": "python",
   "name": "python3"
  },
  "language_info": {
   "codemirror_mode": {
    "name": "ipython",
    "version": 3
   },
   "file_extension": ".py",
   "mimetype": "text/x-python",
   "name": "python",
   "nbconvert_exporter": "python",
   "pygments_lexer": "ipython3",
   "version": "3.10.1"
  },
  "orig_nbformat": 4
 },
 "nbformat": 4,
 "nbformat_minor": 2
}
